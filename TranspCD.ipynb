{
  "cells": [
    {
      "cell_type": "markdown",
      "metadata": {
        "id": "INi9JOtu52h3"
      },
      "source": [
        "# Coleta de dados abertos da Câmara dos Deputados"
      ]
    },
    {
      "cell_type": "markdown",
      "metadata": {
        "id": "11XpnDyv69Z3"
      },
      "source": [
        "**Objetivo**: Obter informações atualizadas sobre a(o)s deputada(o)s federais eleita(o)s e suas respectivas despesas realizadas, por meio dos recursos públicos destinados à chamada *cota parlamentar* - verba recebida pela(o)s deputada(o)s para custear o exercício de suas funções.  \n",
        "\n",
        "**Fonte de dados**: <a href=\"https://dadosabertos.camara.leg.br/swagger/api.html\">Dados Abertos da Câmara dos Deputados</a>"
      ]
    },
    {
      "cell_type": "markdown",
      "metadata": {
        "id": "423fVHt-RoGM"
      },
      "source": [
        "##Carga de pacotes"
      ]
    },
    {
      "cell_type": "code",
      "execution_count": null,
      "metadata": {
        "id": "397646cH5yzw"
      },
      "outputs": [],
      "source": [
        "# Carregamento dos pacotes necessários\n",
        "import time\n",
        "import json\n",
        "import requests\n",
        "import joblib\n",
        "import os\n",
        "from datetime import date\n",
        "from google.colab import drive\n",
        "from google.colab import auth\n",
        "from googleapiclient.discovery import build\n",
        "from googleapiclient.http import MediaFileUpload"
      ]
    },
    {
      "cell_type": "markdown",
      "metadata": {
        "id": "Er8LlAM_OfXP"
      },
      "source": [
        "##Credenciais de acesso"
      ]
    },
    {
      "cell_type": "code",
      "execution_count": null,
      "metadata": {
        "id": "eCLicMGDYpnC"
      },
      "outputs": [],
      "source": [
        "# Autorizar acesso ao Google Drive\n",
        "auth.authenticate_user()\n",
        "drive_service = build('drive', 'v3')"
      ]
    },
    {
      "cell_type": "code",
      "execution_count": null,
      "metadata": {
        "id": "J4MxELGHzAU1"
      },
      "outputs": [],
      "source": [
        "# Montar drive para armazenar conteúdo\n",
        "drive.mount('/content/drive')"
      ]
    },
    {
      "cell_type": "code",
      "execution_count": null,
      "metadata": {
        "id": "hE8DXVYeASpn"
      },
      "outputs": [],
      "source": [
        "# Criar pasta \"DataSetCD\" no Google Drive para salvar dados\n",
        "os.mkdir(\"drive/MyDrive/DataSetCD\")"
      ]
    },
    {
      "cell_type": "markdown",
      "metadata": {
        "id": "WaYYOYmJR4js"
      },
      "source": [
        "## Extração de dados da fonte"
      ]
    },
    {
      "cell_type": "code",
      "execution_count": null,
      "metadata": {
        "id": "bInZ2XSc9CXt"
      },
      "outputs": [],
      "source": [
        "# Captura dos parlamentares em exercício atualmente - 57ª legislatura (2023-2027)\n",
        "%%time\n",
        "resp1 = requests.get(\"https://dadosabertos.camara.leg.br/api/v2/deputados?idLegislatura=57\")\n",
        "list_dept = resp1.json()['dados']\n",
        "list_id = []\n",
        "[list_id.append(x) for x in list({e['id'] for e in list_dept}) if x not in list_id] # Elimina eventuais repetições na lista de identificadores dos deputados\n",
        "joblib.dump(list_id,f'drive/MyDrive/DataSetCD/listid') # Salvamento da lista de identificadores dos deputados na pasta DataSetCD\n",
        "joblib.dump(list_dept,f'drive/MyDrive/DataSetCD/listdept') # Salvamento da lista de informações dos deputados na pasta DataSetCD\n",
        "print(f'Número atual de deputados ativos: {len(list_id)}')"
      ]
    },
    {
      "cell_type": "code",
      "execution_count": null,
      "metadata": {
        "id": "PCTXXALOg9EE"
      },
      "outputs": [],
      "source": [
        "# Carga de eventuais dados pré-existentes coletados das despesas\n",
        "dic_dept_desp = {}\n",
        "list_id = joblib.load(f'drive/MyDrive/DataSetCD/listid') # Carga dos identificadores dos deputados previamente salvos\n",
        "for nid in list_id:\n",
        "  try:\n",
        "    listA = joblib.load(f'drive/MyDrive/DataSetCD/listdesp{nid}')\n",
        "    dic_dept_desp.update({nid: listA})\n",
        "  except:\n",
        "    pass"
      ]
    },
    {
      "cell_type": "code",
      "execution_count": null,
      "metadata": {
        "id": "H5aDObDuEZFK"
      },
      "outputs": [],
      "source": [
        "# Requisições das despesas dos deputados em exercício no(s) ano(s) e/ou no(s) mês(es) desejado(s)\n",
        "%%time\n",
        "for i in range(max(1, date.today().month-3), date.today().month): # Define intervalo para requisições de dados dos últimos 3 meses do ano corrente\n",
        "  for nid in list_id: # Controla execução parcial das requisições\n",
        "    listA = []\n",
        "    for pg in range(1,100): # Define intervalo para requisições por página no ano corrente\n",
        "      resp2 = requests.get(f\"https://dadosabertos.camara.leg.br/api/v2/deputados/{str(nid)}/despesas?idLegislatura=57&ano={date.today().year}&mes={i}&pagina={pg}&itens=100\")\n",
        "      try:\n",
        "        list0 = listA.copy()\n",
        "        listA += resp2.json()['dados']\n",
        "        if listA == list0:\n",
        "          break\n",
        "      except:\n",
        "        pass\n",
        "      time.sleep(0.5)\n",
        "    try:\n",
        "      dic_dept_desp[nid] += listA\n",
        "      listB = []\n",
        "      [listB.append(x) for x in dic_dept_desp[nid] if x not in listB] # Elimina eventuais repetições na lista atualizada das despesas de cada deputado\n",
        "      dic_dept_desp[nid] = listB\n",
        "    except:\n",
        "      dic_dept_desp.update({nid: listA})\n",
        "    joblib.dump(dic_dept_desp[nid],f'drive/MyDrive/DataSetCD/listdesp{nid}') # Salvamento parcial das despesas na pasta DataSetCD"
      ]
    },
    {
      "cell_type": "code",
      "execution_count": null,
      "metadata": {
        "id": "rmZ9DNX8tB3n"
      },
      "outputs": [],
      "source": [
        "# Carga dos dados atualizados das despesas\n",
        "dic1_dept_desp = {}\n",
        "list_id = joblib.load(f'drive/MyDrive/DataSetCD/listid')\n",
        "for nid in list_id:\n",
        "  try:\n",
        "    listA = joblib.load(f'drive/MyDrive/DataSetCD/listdesp{nid}')\n",
        "    dic1_dept_desp.update({nid: listA})\n",
        "  except:\n",
        "    dic1_dept_desp.update({nid: []})"
      ]
    },
    {
      "cell_type": "markdown",
      "metadata": {
        "id": "D9hrjL1FSIIk"
      },
      "source": [
        "## Limpeza e transformação dos dados extraídos"
      ]
    },
    {
      "cell_type": "code",
      "execution_count": null,
      "metadata": {
        "id": "VbVyg_2OO0fw"
      },
      "outputs": [],
      "source": [
        "# Padronização dos e-mails dos deputados\n",
        "list_dept = joblib.load(f'drive/MyDrive/DataSetCD/listdept') # Carga dos dados dos deputados previamente salvos\n",
        "for i, elem in enumerate(list_dept):\n",
        "    if elem['email'] is None:\n",
        "        list_dept[i]['email'] = 'indisponível'"
      ]
    },
    {
      "cell_type": "code",
      "execution_count": null,
      "metadata": {
        "id": "bd-XRdJH90CB"
      },
      "outputs": [],
      "source": [
        "# Limpeza dos dados atualizados: remover caracteres indesejados e nomes de fornecedores redundantes\n",
        "for nid in list_id:\n",
        "    for i, elem in enumerate(dic1_dept_desp[nid]):\n",
        "        for char in \"'.\":\n",
        "            dic1_dept_desp[nid][i]['nomeFornecedor'] = elem['nomeFornecedor'].replace(char,\"\")\n",
        "            dic1_dept_desp[nid][i]['tipoDespesa'] = elem['tipoDespesa'].replace(char,\"\")\n",
        "        if elem['nomeFornecedor'].startswith('Cia Aérea'):\n",
        "            dic1_dept_desp[nid][i]['nomeFornecedor'] = elem['nomeFornecedor'].split('-')[1].strip()\n",
        "        j = i\n",
        "        while j >= 0:\n",
        "            if dic1_dept_desp[nid][j]['cnpjCpfFornecedor']==dic1_dept_desp[nid][i]['cnpjCpfFornecedor'] and dic1_dept_desp[nid][j]['nomeFornecedor']!=dic1_dept_desp[nid][i]['nomeFornecedor']:\n",
        "                dic1_dept_desp[nid][i]['nomeFornecedor'] = dic1_dept_desp[nid][j]['nomeFornecedor']\n",
        "            j -= 1"
      ]
    },
    {
      "cell_type": "code",
      "execution_count": null,
      "metadata": {
        "id": "XKYEfYdxFIOA"
      },
      "outputs": [],
      "source": [
        "# Cópia dos dados limpos\n",
        "dic2_dept_desp = dic1_dept_desp.copy()"
      ]
    },
    {
      "cell_type": "code",
      "execution_count": null,
      "metadata": {
        "id": "2p-tig8oD8hK"
      },
      "outputs": [],
      "source": [
        "# Transformação dos dados - parte 1: explicitar mês das despesas\n",
        "dic_mes = {1:'Jan', 2:'Fev', 3:'Mar', 4:'Abr', 5:'Mai', 6:'Jun', 7:'Jul', 8:'Ago', 9:'Set', 10:'Out', 11:'Nov', 12:'Dez'}\n",
        "for nid in list_id:\n",
        "    for i, elem in enumerate(dic2_dept_desp[nid]):\n",
        "        dic2_dept_desp[nid][i]['mes'] = dic_mes[elem['mes']]"
      ]
    },
    {
      "cell_type": "code",
      "execution_count": null,
      "metadata": {
        "id": "RD655JbKeidR"
      },
      "outputs": [],
      "source": [
        "# Transformação dos dados - parte 2: agrupar e simplificar os tipos de despesas, com base nas informações de https://www2.camara.leg.br/comunicacao/assessoria-de-imprensa/guia-para-jornalistas/cota-parlamentar\n",
        "for nid in list_id:\n",
        "    for i, e in enumerate(dic2_dept_desp[nid]):\n",
        "        if e['tipoDespesa'] == 'AQUISIÇÃO DE TOKENS E CERTIFICADOS DIGITAIS':\n",
        "            dic2_dept_desp[nid][i]['tipoDespesa'] = 'TOKENS'\n",
        "        elif e['tipoDespesa'] == 'ASSINATURA DE PUBLICAÇÕES':\n",
        "            dic2_dept_desp[nid][i]['tipoDespesa'] = 'PUBLICAÇÕES'\n",
        "        elif e['tipoDespesa'] == 'FORNECIMENTO DE ALIMENTAÇÃO DO PARLAMENTAR':\n",
        "            dic2_dept_desp[nid][i]['tipoDespesa'] = 'ALIMENTAÇÃO'\n",
        "        elif e['tipoDespesa'] == 'PARTICIPAÇÃO EM CURSO, PALESTRA OU EVENTO SIMILAR':\n",
        "            dic2_dept_desp[nid][i]['tipoDespesa'] = 'EVENTOS INSTRUCIONAIS'\n",
        "        elif e['tipoDespesa'].startswith('LOCAÇÃO'):\n",
        "            dic2_dept_desp[nid][i]['tipoDespesa'] = 'LOCAÇÃO DE VEÍCULOS'\n",
        "        elif e['tipoDespesa'].startswith('PASSAGE'):\n",
        "            dic2_dept_desp[nid][i]['tipoDespesa'] = 'VIAGENS'\n",
        "        elif e['tipoDespesa'].startswith('SERVIÇO') or e['tipoDespesa'] == 'TELEFONIA':\n",
        "            dic2_dept_desp[nid][i]['tipoDespesa'] = 'SERVIÇOS'\n",
        "        else:\n",
        "            dic2_dept_desp[nid][i]['tipoDespesa'] = e['tipoDespesa'].split()[0].replace(',','')"
      ]
    },
    {
      "cell_type": "markdown",
      "metadata": {
        "id": "4jrQGguPSQ3F"
      },
      "source": [
        "## Exportação dos dados pré-processados"
      ]
    },
    {
      "cell_type": "code",
      "execution_count": null,
      "metadata": {
        "id": "LmT7C1TQA0Hj"
      },
      "outputs": [],
      "source": [
        "# Exportação de dados selecionados dos deputados para arquivo JSON\n",
        "list_dept_mod = []\n",
        "for elem in list_dept:\n",
        "    list_dept_mod.append({\"id\": elem['id'], \"nome\": elem['nome'], \"email\": elem['email'],\\\n",
        "                            \"partido\": elem['siglaPartido'], \"uf\": elem['siglaUf'], \"foto\": elem['urlFoto']})\n",
        "with open(f'deputadosLEG57_{date.today().year}.json', 'w', encoding='utf8') as arq:\n",
        "    json.dump(list_dept_mod, arq, ensure_ascii=False)"
      ]
    },
    {
      "cell_type": "code",
      "execution_count": null,
      "metadata": {
        "id": "QjYnqc09H8a1"
      },
      "outputs": [],
      "source": [
        "# Upload das informações do arquivo JSON dos deputados para o Google Drive\n",
        "file_metadata1 = {\n",
        "  'name': f'deputadosLEG57_{date.today().year}',\n",
        "  'mimeType': 'application/json'\n",
        "}\n",
        "media1 = MediaFileUpload(f'deputadosLEG57_{date.today().year}.json',\n",
        "                        mimetype='application/json',\n",
        "                        resumable=True)\n",
        "file_list = drive_service.files().list().execute()['files']\n",
        "if any(file['name'] == f'deputadosLEG57_{date.today().year}' for file in file_list):\n",
        "  fileId1 = [file['id'] for file in file_list if file['name']==f'deputadosLEG57_{date.today().year}'][0]\n",
        "  updated1 = drive_service.files().update(fileId=fileId1,\n",
        "                                        body=file_metadata1,\n",
        "                                        media_body=media1).execute()\n",
        "else:\n",
        "  created1 = drive_service.files().create(body=file_metadata1,\n",
        "                                       media_body=media1,\n",
        "                                       fields='id').execute()"
      ]
    },
    {
      "cell_type": "code",
      "execution_count": null,
      "metadata": {
        "id": "G0zgpMefEn9h"
      },
      "outputs": [],
      "source": [
        "# Exportação de dados selecionados das despesas para arquivo JSON\n",
        "list_dept_desp = []\n",
        "for chv in dic2_dept_desp.keys():\n",
        "    for elem in dic2_dept_desp[chv]:\n",
        "        list_dept_desp.append({\"id\": chv, \"tipo\": elem['tipoDespesa'], \"iddoc\": elem['codDocumento'],\\\n",
        "                                \"ano\": elem['ano'], \"mes\": elem['mes'], \"data\": elem['dataDocumento'],\\\n",
        "                                \"nomefornecedor\": elem['nomeFornecedor'], \"codfornecedor\": elem['cnpjCpfFornecedor'],\\\n",
        "                                \"valor\": elem['valorLiquido']})\n",
        "with open(f'despesasLEG57_{date.today().year}.json', 'w', encoding='utf8') as arq:\n",
        "    json.dump(list_dept_desp, arq, ensure_ascii=False)"
      ]
    },
    {
      "cell_type": "code",
      "execution_count": null,
      "metadata": {
        "id": "hxnWQ6fILRT3"
      },
      "outputs": [],
      "source": [
        "# Upload das informações do arquivo JSON das despesas para o Google Drive\n",
        "file_metadata2 = {\n",
        "  'name': f'despesasLEG57_{date.today().year}',\n",
        "  'mimeType': 'application/json'\n",
        "}\n",
        "media2 = MediaFileUpload(f'despesasLEG57_{date.today().year}.json',\n",
        "                        mimetype='application/json',\n",
        "                        resumable=True)\n",
        "file_list = drive_service.files().list().execute()['files']\n",
        "if any(file['name'] == f'despesasLEG57_{date.today().year}' for file in file_list):\n",
        "  fileId2 = [file['id'] for file in file_list if file['name']==f'despesasLEG57_{date.today().year}'][0]\n",
        "  updated2 = drive_service.files().update(fileId=fileId2,\n",
        "                                        body=file_metadata2,\n",
        "                                        media_body=media2).execute()\n",
        "else:\n",
        "  created2 = drive_service.files().create(body=file_metadata2,\n",
        "                                       media_body=media2,\n",
        "                                       fields='id').execute()"
      ]
    }
  ],
  "metadata": {
    "accelerator": "GPU",
    "colab": {
      "provenance": []
    },
    "gpuClass": "standard",
    "kernelspec": {
      "display_name": "Python 3",
      "name": "python3"
    },
    "language_info": {
      "name": "python"
    }
  },
  "nbformat": 4,
  "nbformat_minor": 0
}